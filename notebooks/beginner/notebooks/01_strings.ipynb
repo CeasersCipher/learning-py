{
 "cells": [
  {
   "cell_type": "markdown",
   "metadata": {},
   "source": [
    "# [Strings](https://docs.python.org/3/library/stdtypes.html#text-sequence-type-str)"
   ]
  },
  {
   "cell_type": "markdown",
   "metadata": {},
   "source": [
    "## Introduction to Python and Strings\n",
    "\n",
    "Python is a versatile, beginner-friendly programming language known for its simplicity and readability. It is widely used in web development, data analysis, machine learning, and more. In this section, we’ll explore strings, one of the most fundamental data types in Python. Strings are sequences of characters used to store and manipulate text. You’ll learn how to create, format, and manipulate strings to perform various operations, such as slicing, concatenation, and accessing individual characters."
   ]
  },
  {
   "cell_type": "markdown",
   "metadata": {},
   "source": [
    "Python is a high-level, interpreted programming language celebrated for its simplicity, readability, and versatility. It is designed to make programming accessible and efficient, allowing developers to focus on solving problems rather than struggling with complex syntax. Python has gained immense popularity across industries, making it a top choice for beginners and professionals alike. Its ease of use, combined with its extensive capabilities, has positioned Python as one of the most widely used programming languages in the world.\n",
    "\n",
    "The story of Python begins in the late 1980s, when Guido van Rossum, a Dutch programmer, sought to create a language that combined the strengths of existing languages while addressing their shortcomings. Drawing inspiration from the ABC programming language and borrowing features from others like C, he developed Python as a language that was both powerful and easy to use. Officially released in 1991, Python was named not after the snake but after Monty Python’s Flying Circus, a British comedy series that Van Rossum enjoyed. This choice reflects Python’s goal of making programming enjoyable and engaging.\n",
    "\n",
    "Python’s widespread appeal lies in its ability to balance simplicity and functionality. Its syntax is clean and intuitive, often resembling plain English, which lowers the barrier to entry for new learners and enhances code readability for developers of all levels. Python’s versatility is evident in its application across diverse domains, including web development, data analysis, artificial intelligence, scientific computing, game development, and automation. Its extensive standard library provides built-in tools for common programming tasks, reducing the need to reinvent the wheel. Furthermore, Python is platform-independent, meaning code written in Python can run seamlessly on different operating systems, making it a highly flexible choice for development.\n",
    "\n",
    "One of Python’s defining strengths is its suitability for automation. Its ease of scripting, combined with a rich ecosystem of libraries, makes it an excellent tool for automating repetitive tasks. From automating system processes and managing files to scraping websites and scheduling tasks, Python provides the tools to handle complex workflows efficiently. Python scripts can interact with APIs, simulate user input, and handle exceptions, making it a reliable choice for building automation solutions. This capability has made Python indispensable for professionals looking to save time and reduce errors in their daily workflows.\n",
    "\n",
    "In the realm of office productivity, Python shines as a powerful tool for automating tasks in applications like Excel, Word, and Outlook. With Python, tasks that were once time-consuming and prone to human error can be streamlined into fast and reliable processes. For instance, Python can automate data cleaning, generate reports, and perform calculations in Excel. Libraries like openpyxl and pandas enable users to manipulate spreadsheets with ease, while tools like xlwings allow real-time interaction with the Excel application. This means Python can be used to create dynamic dashboards, summarize data from multiple spreadsheets, and even update reports automatically.\n",
    "\n",
    "Beyond Excel, Python extends its automation capabilities to other Office applications. Using libraries like python-docx, it can create and edit Word documents, making it useful for generating templated reports, invoices, or letters. Similarly, Python’s integration with Outlook, facilitated by libraries like pywin32, allows users to send personalized emails, organize inboxes, and monitor messages for specific keywords. This level of automation reduces the time spent on repetitive email tasks and increases productivity.\n",
    "\n",
    "Python also bridges the gap between Office applications, enabling the creation of comprehensive workflows. For example, Python can extract data from an Excel sheet, use it to generate a Word report, and email the final document via Outlook, all in one seamless process. This ability to connect and automate multiple applications makes Python an invaluable tool for professionals working with data-heavy or administrative tasks.\n",
    "\n",
    "In addition to its technical capabilities, Python benefits from an active and supportive community of developers. This ensures that learners and practitioners have access to extensive documentation, tutorials, and third-party libraries for virtually any task. Whether you’re a beginner exploring programming for the first time or a professional looking to enhance your productivity, Python’s adaptability and user-friendly design make it an ideal choice.\n",
    "\n",
    "Python’s combination of simplicity, power, and versatility makes it a language worth learning. Its ability to automate repetitive tasks, especially within the context of Office applications like Excel, Word, and Outlook, highlights its practical utility in professional environments. By learning Python, you are equipping yourself with a tool that not only simplifies complex tasks but also opens doors to endless possibilities in programming, automation, and beyond."
   ]
  },
  {
   "cell_type": "code",
   "execution_count": null,
   "metadata": {},
   "outputs": [],
   "source": [
    "my_string = \"Python is my favorite programming language!\""
   ]
  },
  {
   "cell_type": "code",
   "execution_count": null,
   "metadata": {},
   "outputs": [],
   "source": [
    "my_string"
   ]
  },
  {
   "cell_type": "code",
   "execution_count": null,
   "metadata": {},
   "outputs": [],
   "source": [
    "type(my_string)"
   ]
  },
  {
   "cell_type": "code",
   "execution_count": null,
   "metadata": {},
   "outputs": [],
   "source": [
    "len(my_string)"
   ]
  },
  {
   "cell_type": "markdown",
   "metadata": {
    "jupyter": {
     "source_hidden": true
    }
   },
   "source": [
    "### Respecting [PEP8](https://www.python.org/dev/peps/pep-0008/#maximum-line-length) with long strings"
   ]
  },
  {
   "cell_type": "code",
   "execution_count": null,
   "metadata": {},
   "outputs": [],
   "source": [
    "long_story = (\n",
    "    \"Lorem ipsum dolor sit amet, consectetur adipiscing elit.\"\n",
    "    \"Pellentesque eget tincidunt felis. Ut ac vestibulum est.\"\n",
    "    \"In sed ipsum sit amet sapien scelerisque bibendum. Sed \"\n",
    "    \"sagittis purus eu diam fermentum pellentesque.\"\n",
    ")\n",
    "long_story"
   ]
  },
  {
   "cell_type": "markdown",
   "metadata": {},
   "source": [
    "## `str.replace()`"
   ]
  },
  {
   "cell_type": "markdown",
   "metadata": {},
   "source": [
    "If you don't know how it works, you can always check the `help`:"
   ]
  },
  {
   "cell_type": "code",
   "execution_count": null,
   "metadata": {},
   "outputs": [],
   "source": [
    "help(str.replace)"
   ]
  },
  {
   "cell_type": "markdown",
   "metadata": {},
   "source": [
    "This will not modify `my_string` because replace is not done in-place."
   ]
  },
  {
   "cell_type": "code",
   "execution_count": null,
   "metadata": {},
   "outputs": [],
   "source": [
    "my_string.replace(\"a\", \"?\")\n",
    "print(my_string)"
   ]
  },
  {
   "cell_type": "markdown",
   "metadata": {},
   "source": [
    "You have to store the return value of `replace` instead."
   ]
  },
  {
   "cell_type": "code",
   "execution_count": null,
   "metadata": {},
   "outputs": [],
   "source": [
    "my_modified_string = my_string.replace(\"is\", \"will be\")\n",
    "print(my_modified_string)"
   ]
  },
  {
   "cell_type": "markdown",
   "metadata": {},
   "source": [
    "## f-strings"
   ]
  },
  {
   "cell_type": "code",
   "execution_count": null,
   "metadata": {},
   "outputs": [],
   "source": [
    "first_name = \"John\"\n",
    "last_name = \"Doe\"\n",
    "age = 88\n",
    "print(f\"My name is {first_name} {last_name}, you can call me {first_name}.\")\n",
    "print(f\"I'm {age} years old.\")"
   ]
  },
  {
   "cell_type": "code",
   "execution_count": null,
   "metadata": {},
   "outputs": [],
   "source": [
    "print(f\"Use '=' to also print the variable name like this: {age=}\")"
   ]
  },
  {
   "cell_type": "markdown",
   "metadata": {},
   "source": [
    "## `str.join()`"
   ]
  },
  {
   "cell_type": "code",
   "execution_count": null,
   "metadata": {},
   "outputs": [],
   "source": [
    "pandas = \"pandas\"\n",
    "numpy = \"numpy\"\n",
    "requests = \"requests\"\n",
    "cool_python_libs = \", \".join([pandas, numpy, requests])"
   ]
  },
  {
   "cell_type": "code",
   "execution_count": null,
   "metadata": {},
   "outputs": [],
   "source": [
    "print(f\"Some cool python libraries: {cool_python_libs}\")"
   ]
  },
  {
   "cell_type": "markdown",
   "metadata": {},
   "source": [
    "Alternative (not as [Pythonic](http://docs.python-guide.org/en/latest/writing/style/#idioms) and [slower](https://waymoot.org/home/python_string/)):"
   ]
  },
  {
   "cell_type": "code",
   "execution_count": null,
   "metadata": {},
   "outputs": [],
   "source": [
    "cool_python_libs = pandas + \", \" + numpy + \", \" + requests\n",
    "print(f\"Some cool python libraries: {cool_python_libs}\")\n",
    "\n",
    "cool_python_libs = pandas\n",
    "cool_python_libs += \", \" + numpy\n",
    "cool_python_libs += \", \" + requests\n",
    "print(f\"Some cool python libraries: {cool_python_libs}\")"
   ]
  },
  {
   "cell_type": "markdown",
   "metadata": {},
   "source": [
    "## `str.upper(), str.lower(), str.title()`"
   ]
  },
  {
   "cell_type": "code",
   "execution_count": null,
   "metadata": {},
   "outputs": [],
   "source": [
    "mixed_case = \"PyTHoN hackER\""
   ]
  },
  {
   "cell_type": "code",
   "execution_count": null,
   "metadata": {},
   "outputs": [],
   "source": [
    "mixed_case.upper()"
   ]
  },
  {
   "cell_type": "code",
   "execution_count": null,
   "metadata": {},
   "outputs": [],
   "source": [
    "mixed_case.lower()"
   ]
  },
  {
   "cell_type": "code",
   "execution_count": null,
   "metadata": {},
   "outputs": [],
   "source": [
    "mixed_case.title()"
   ]
  },
  {
   "cell_type": "markdown",
   "metadata": {},
   "source": [
    "## `str.strip()`"
   ]
  },
  {
   "cell_type": "code",
   "execution_count": null,
   "metadata": {},
   "outputs": [],
   "source": [
    "ugly_formatted = \" \\n \\t Some story to tell \"\n",
    "stripped = ugly_formatted.strip()\n",
    "\n",
    "print(f\"ugly: {ugly_formatted}\")\n",
    "print(f\"stripped: {stripped}\")"
   ]
  },
  {
   "cell_type": "markdown",
   "metadata": {},
   "source": [
    "## `str.split()`"
   ]
  },
  {
   "cell_type": "code",
   "execution_count": null,
   "metadata": {},
   "outputs": [],
   "source": [
    "sentence = \"three different words\"\n",
    "words = sentence.split()\n",
    "print(words)"
   ]
  },
  {
   "cell_type": "code",
   "execution_count": null,
   "metadata": {},
   "outputs": [],
   "source": [
    "type(words)"
   ]
  },
  {
   "cell_type": "code",
   "execution_count": null,
   "metadata": {},
   "outputs": [],
   "source": [
    "secret_binary_data = \"01001,101101,11100000\"\n",
    "binaries = secret_binary_data.split(\",\")\n",
    "print(binaries)"
   ]
  },
  {
   "cell_type": "markdown",
   "metadata": {},
   "source": [
    "## Calling multiple methods in a row"
   ]
  },
  {
   "cell_type": "code",
   "execution_count": null,
   "metadata": {},
   "outputs": [],
   "source": [
    "ugly_mixed_case = \"   ThIS LooKs BAd \"\n",
    "pretty = ugly_mixed_case.strip().lower().replace(\"bad\", \"good\")\n",
    "print(pretty)"
   ]
  },
  {
   "cell_type": "markdown",
   "metadata": {},
   "source": [
    "Note that execution order is from left to right. Thus, this won't work:"
   ]
  },
  {
   "cell_type": "code",
   "execution_count": null,
   "metadata": {},
   "outputs": [],
   "source": [
    "pretty = ugly_mixed_case.replace(\"bad\", \"good\").strip().lower()\n",
    "print(pretty)"
   ]
  },
  {
   "cell_type": "markdown",
   "metadata": {},
   "source": [
    "## [Escape characters](http://python-reference.readthedocs.io/en/latest/docs/str/escapes.html#escape-characters)"
   ]
  },
  {
   "cell_type": "code",
   "execution_count": null,
   "metadata": {},
   "outputs": [],
   "source": [
    "two_lines = \"First line\\nSecond line\"\n",
    "print(two_lines)"
   ]
  },
  {
   "cell_type": "code",
   "execution_count": null,
   "metadata": {},
   "outputs": [],
   "source": [
    "indented = \"\\tThis will be indented\"\n",
    "print(indented)"
   ]
  }
 ],
 "metadata": {
  "kernelspec": {
   "display_name": "Python 3 (ipykernel)",
   "language": "python",
   "name": "python3"
  },
  "language_info": {
   "codemirror_mode": {
    "name": "ipython",
    "version": 3
   },
   "file_extension": ".py",
   "mimetype": "text/x-python",
   "name": "python",
   "nbconvert_exporter": "python",
   "pygments_lexer": "ipython3",
   "version": "3.12.1"
  }
 },
 "nbformat": 4,
 "nbformat_minor": 4
}
